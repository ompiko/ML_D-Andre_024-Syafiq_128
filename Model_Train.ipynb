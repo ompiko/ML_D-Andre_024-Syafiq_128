{
  "cells": [
    {
      "cell_type": "markdown",
      "metadata": {
        "id": "view-in-github",
        "colab_type": "text"
      },
      "source": [
        "<a href=\"https://colab.research.google.com/github/ompiko/ML_D-Andre_024-Syafiq_128/blob/main/Model_Train.ipynb\" target=\"_parent\"><img src=\"https://colab.research.google.com/assets/colab-badge.svg\" alt=\"Open In Colab\"/></a>"
      ]
    },
    {
      "cell_type": "code",
      "execution_count": null,
      "metadata": {
        "colab": {
          "base_uri": "https://localhost:8080/"
        },
        "id": "Ui9cLjMdn17_",
        "outputId": "fbf90182-4861-4140-de8c-a5eba50c6f07"
      },
      "outputs": [
        {
          "output_type": "stream",
          "name": "stdout",
          "text": [
            "Mounted at /content/drive\n"
          ]
        }
      ],
      "source": [
        "from google.colab import drive\n",
        "drive.mount('/content/drive')"
      ]
    },
    {
      "cell_type": "code",
      "execution_count": null,
      "metadata": {
        "colab": {
          "base_uri": "https://localhost:8080/"
        },
        "id": "wL61Pc3_S06E",
        "outputId": "836d71fd-3f6d-40fe-c2db-cba366bfd618"
      },
      "outputs": [
        {
          "output_type": "stream",
          "name": "stdout",
          "text": [
            "/content/drive/MyDrive/datasets\n"
          ]
        }
      ],
      "source": [
        "cd /content/drive/MyDrive/datasets"
      ]
    },
    {
      "cell_type": "code",
      "execution_count": null,
      "metadata": {
        "colab": {
          "base_uri": "https://localhost:8080/"
        },
        "id": "FcJvFmOTznEi",
        "outputId": "b9290ac9-bc23-4a51-f0c1-34e9ecc581e9"
      },
      "outputs": [
        {
          "output_type": "stream",
          "name": "stdout",
          "text": [
            "TensorFlow 1.x selected.\n"
          ]
        }
      ],
      "source": [
        "%tensorflow_version 1.x"
      ]
    },
    {
      "cell_type": "code",
      "execution_count": null,
      "metadata": {
        "colab": {
          "base_uri": "https://localhost:8080/"
        },
        "id": "NTL9JAB_zn0k",
        "outputId": "0ed641da-f3d5-4df3-b4dc-a9b2d41ade51"
      },
      "outputs": [
        {
          "output_type": "stream",
          "name": "stdout",
          "text": [
            "1.15.2\n"
          ]
        }
      ],
      "source": [
        "import tensorflow\n",
        "print(tensorflow.__version__)"
      ]
    },
    {
      "cell_type": "markdown",
      "metadata": {
        "id": "Sqs8xkUUT7ex"
      },
      "source": [
        "#Data Preprocessing"
      ]
    },
    {
      "cell_type": "code",
      "execution_count": null,
      "metadata": {
        "colab": {
          "base_uri": "https://localhost:8080/"
        },
        "id": "k89Phl5nTfYU",
        "outputId": "53dcb1d7-f4c1-4da9-c283-43d9fbfd79a0"
      },
      "outputs": [
        {
          "output_type": "stream",
          "name": "stdout",
          "text": [
            "{'batik-tambal': 0, 'batik-sogan': 1, 'batik-sidomukti': 2, 'batik-sidoluhur': 3, 'batik-sekar': 4, 'batik-priangan': 5, 'batik-pekalongan': 6, 'batik-parang': 7, 'batik-keraton': 8, 'batik-lasem': 9, 'batik-ceplok': 10, 'batik-megamendung': 11, 'batik-kawung': 12, 'batik-ciamis': 13, 'batik-cendrawasih': 14, 'batik-garutan': 15, 'batik-gentongan': 16, 'batik-celup': 17, 'batik-betawi': 18, 'batik-bali': 19}\n",
            "['batik-tambal', 'batik-sogan', 'batik-sidomukti', 'batik-sidoluhur', 'batik-sekar', 'batik-priangan', 'batik-pekalongan', 'batik-parang', 'batik-keraton', 'batik-lasem', 'batik-ceplok', 'batik-megamendung', 'batik-kawung', 'batik-ciamis', 'batik-cendrawasih', 'batik-garutan', 'batik-gentongan', 'batik-celup', 'batik-betawi', 'batik-bali']\n",
            "[0, 1, 2, 3, 4, 5, 6, 7, 8, 9, 10, 11, 12, 13, 14, 15, 16, 17, 18, 19]\n"
          ]
        }
      ],
      "source": [
        "import cv2,os\n",
        "data_path='/content/drive/MyDrive/datasets'\n",
        "categories=os.listdir(data_path)\n",
        "labels=[i for i in range(len(categories))]\n",
        "\n",
        "label_dict=dict(zip(categories,labels)) #empty dictionary\n",
        "print(label_dict)\n",
        "print(categories)\n",
        "print(labels)"
      ]
    },
    {
      "cell_type": "code",
      "execution_count": null,
      "metadata": {
        "id": "BScfeIRlTtlL",
        "colab": {
          "base_uri": "https://localhost:8080/"
        },
        "outputId": "0e0ec587-d142-412b-c3fe-7feb37fc22b8"
      },
      "outputs": [
        {
          "output_type": "stream",
          "name": "stdout",
          "text": [
            "Exception: OpenCV(4.1.2) /io/opencv/modules/imgproc/src/resize.cpp:3720: error: (-215:Assertion failed) !ssize.empty() in function 'resize'\n",
            "\n",
            "Exception: OpenCV(4.1.2) /io/opencv/modules/imgproc/src/resize.cpp:3720: error: (-215:Assertion failed) !ssize.empty() in function 'resize'\n",
            "\n",
            "Exception: OpenCV(4.1.2) /io/opencv/modules/imgproc/src/resize.cpp:3720: error: (-215:Assertion failed) !ssize.empty() in function 'resize'\n",
            "\n",
            "Exception: OpenCV(4.1.2) /io/opencv/modules/imgproc/src/resize.cpp:3720: error: (-215:Assertion failed) !ssize.empty() in function 'resize'\n",
            "\n",
            "Exception: OpenCV(4.1.2) /io/opencv/modules/imgproc/src/resize.cpp:3720: error: (-215:Assertion failed) !ssize.empty() in function 'resize'\n",
            "\n",
            "Exception: OpenCV(4.1.2) /io/opencv/modules/imgproc/src/resize.cpp:3720: error: (-215:Assertion failed) !ssize.empty() in function 'resize'\n",
            "\n"
          ]
        }
      ],
      "source": [
        "img_size=100\n",
        "data=[]\n",
        "target=[]\n",
        "\n",
        "for category in categories:\n",
        "    folder_path=os.path.join(data_path,category)\n",
        "    img_names=os.listdir(folder_path)\n",
        "        \n",
        "    for img_name in img_names:\n",
        "        img_path=os.path.join(folder_path,img_name)\n",
        "        img=cv2.imread(img_path)\n",
        "\n",
        "        try:  \n",
        "            resized=cv2.resize(img,(img_size,img_size))\n",
        "            #resizing the image  into 100x100, since we need a fixed common size for all the images in the dataset\n",
        "            data.append(resized)\n",
        "            target.append(label_dict[category])\n",
        "            #appending the image and the label(categorized) into the list (dataset)\n",
        "        except Exception as e:\n",
        "            print('Exception:',e)\n",
        "            #if any exception rasied, the exception will be printed here. And pass to the next image"
      ]
    },
    {
      "cell_type": "markdown",
      "metadata": {
        "id": "mYQHryCXVQa9"
      },
      "source": [
        "#Recale and assign  catagorical lables"
      ]
    },
    {
      "cell_type": "code",
      "execution_count": null,
      "metadata": {
        "colab": {
          "base_uri": "https://localhost:8080/"
        },
        "id": "DRj6dU9zTxNw",
        "outputId": "5ea7a055-fdc7-4f4d-bcca-64c1ff89d32f"
      },
      "outputs": [
        {
          "output_type": "stream",
          "name": "stderr",
          "text": [
            "Using TensorFlow backend.\n"
          ]
        }
      ],
      "source": [
        "import numpy as np\n",
        "data=np.array(data)/255.0\n",
        "data=np.reshape(data,(data.shape[0],img_size,img_size,3))\n",
        "target=np.array(target)\n",
        "from keras.utils import np_utils\n",
        "new_target=np_utils.to_categorical(target)"
      ]
    },
    {
      "cell_type": "code",
      "execution_count": null,
      "metadata": {
        "colab": {
          "base_uri": "https://localhost:8080/"
        },
        "id": "M2Ww7WuoeRAo",
        "outputId": "6931e0ca-1a3a-4729-c8c7-677ff18e246b"
      },
      "outputs": [
        {
          "output_type": "execute_result",
          "data": {
            "text/plain": [
              "(977, 20)"
            ]
          },
          "metadata": {},
          "execution_count": 8
        }
      ],
      "source": [
        "new_target.shape"
      ]
    },
    {
      "cell_type": "markdown",
      "metadata": {
        "id": "at-tkV9EUH8v"
      },
      "source": [
        "#CNN Model"
      ]
    },
    {
      "cell_type": "code",
      "execution_count": null,
      "metadata": {
        "colab": {
          "base_uri": "https://localhost:8080/"
        },
        "id": "w5yQijqzVHJN",
        "outputId": "bac86d89-d640-422a-a340-1129f1ea17de"
      },
      "outputs": [
        {
          "output_type": "execute_result",
          "data": {
            "text/plain": [
              "(977, 100, 100, 3)"
            ]
          },
          "metadata": {},
          "execution_count": 9
        }
      ],
      "source": [
        "data.shape"
      ]
    },
    {
      "cell_type": "code",
      "execution_count": null,
      "metadata": {
        "colab": {
          "base_uri": "https://localhost:8080/"
        },
        "id": "L1JcfG4MdVZ2",
        "outputId": "df793f02-4c29-465c-891b-20620d542a54"
      },
      "outputs": [
        {
          "output_type": "execute_result",
          "data": {
            "text/plain": [
              "(100, 100, 3)"
            ]
          },
          "metadata": {},
          "execution_count": 10
        }
      ],
      "source": [
        "data.shape[1:]"
      ]
    },
    {
      "cell_type": "code",
      "execution_count": null,
      "metadata": {
        "id": "XgsZogOtUPm2"
      },
      "outputs": [],
      "source": [
        "from keras.models import Sequential\n",
        "from keras.layers import Dense,Activation,Flatten,Dropout\n",
        "from keras.layers import Conv2D,MaxPooling2D\n",
        "from keras.callbacks import ModelCheckpoint\n",
        "\n",
        "model=Sequential()\n",
        "\n",
        "model.add(Conv2D(200,(3,3),input_shape=data.shape[1:]))\n",
        "model.add(Activation('relu'))\n",
        "model.add(MaxPooling2D(pool_size=(2,2)))\n",
        "#The first CNN layer followed by Relu and MaxPooling layers\n",
        "\n",
        "model.add(Conv2D(100,(3,3)))\n",
        "model.add(Activation('relu'))\n",
        "model.add(MaxPooling2D(pool_size=(2,2)))\n",
        "#The second convolution layer followed by Relu and MaxPooling layers\n",
        "\n",
        "model.add(Flatten())\n",
        "model.add(Dropout(0.5))\n",
        "#Flatten layer to stack the output convolutions from second convolution layer\n",
        "model.add(Dense(50,activation='relu'))\n",
        "#Dense layer of 64 neurons\n",
        "model.add(Dense(20,activation='softmax'))\n",
        "#The Final layer with two outputs for two categories\n",
        "\n",
        "model.compile(loss='categorical_crossentropy',optimizer='adam',metrics=['accuracy'])"
      ]
    },
    {
      "cell_type": "code",
      "execution_count": null,
      "metadata": {
        "colab": {
          "base_uri": "https://localhost:8080/"
        },
        "id": "yfCMzZEpcyAM",
        "outputId": "74c4f008-cc89-4ede-c125-918a0b14ccbd"
      },
      "outputs": [
        {
          "output_type": "stream",
          "name": "stdout",
          "text": [
            "Model: \"sequential_7\"\n",
            "_________________________________________________________________\n",
            "Layer (type)                 Output Shape              Param #   \n",
            "=================================================================\n",
            "conv2d_12 (Conv2D)           (None, 98, 98, 200)       5600      \n",
            "_________________________________________________________________\n",
            "activation_11 (Activation)   (None, 98, 98, 200)       0         \n",
            "_________________________________________________________________\n",
            "max_pooling2d_11 (MaxPooling (None, 49, 49, 200)       0         \n",
            "_________________________________________________________________\n",
            "conv2d_13 (Conv2D)           (None, 47, 47, 100)       180100    \n",
            "_________________________________________________________________\n",
            "activation_12 (Activation)   (None, 47, 47, 100)       0         \n",
            "_________________________________________________________________\n",
            "max_pooling2d_12 (MaxPooling (None, 23, 23, 100)       0         \n",
            "_________________________________________________________________\n",
            "flatten_5 (Flatten)          (None, 52900)             0         \n",
            "_________________________________________________________________\n",
            "dropout_5 (Dropout)          (None, 52900)             0         \n",
            "_________________________________________________________________\n",
            "dense_9 (Dense)              (None, 50)                2645050   \n",
            "_________________________________________________________________\n",
            "dense_10 (Dense)             (None, 20)                1020      \n",
            "=================================================================\n",
            "Total params: 2,831,770\n",
            "Trainable params: 2,831,770\n",
            "Non-trainable params: 0\n",
            "_________________________________________________________________\n"
          ]
        }
      ],
      "source": [
        "model.summary()"
      ]
    },
    {
      "cell_type": "markdown",
      "metadata": {
        "id": "Lzs7FPsncqKT"
      },
      "source": [
        "#Splittiong data into traning and testing"
      ]
    },
    {
      "cell_type": "code",
      "execution_count": null,
      "metadata": {
        "id": "1oHT4H09UT8-"
      },
      "outputs": [],
      "source": [
        "from sklearn.model_selection import train_test_split\n",
        "train_data,test_data,train_target,test_target=train_test_split(data,new_target,test_size=0.1)"
      ]
    },
    {
      "cell_type": "code",
      "execution_count": null,
      "metadata": {
        "colab": {
          "base_uri": "https://localhost:8080/"
        },
        "id": "sBdHmVpzdbny",
        "outputId": "361f73a3-19e7-450c-82b8-3154f570caa5"
      },
      "outputs": [
        {
          "output_type": "execute_result",
          "data": {
            "text/plain": [
              "(879, 100, 100, 3)"
            ]
          },
          "metadata": {},
          "execution_count": 40
        }
      ],
      "source": [
        "train_data.shape"
      ]
    },
    {
      "cell_type": "code",
      "execution_count": null,
      "metadata": {
        "colab": {
          "base_uri": "https://localhost:8080/"
        },
        "id": "Yt9DmIiydgcq",
        "outputId": "f3116417-bb55-4f09-87da-dc0fbebd3258"
      },
      "outputs": [
        {
          "output_type": "execute_result",
          "data": {
            "text/plain": [
              "(879, 20)"
            ]
          },
          "metadata": {},
          "execution_count": 43
        }
      ],
      "source": [
        "train_target.shape"
      ]
    },
    {
      "cell_type": "code",
      "source": [
        "label_array = train_target.reshape(1, -1)"
      ],
      "metadata": {
        "id": "vYnLQY0viwOK"
      },
      "execution_count": null,
      "outputs": []
    },
    {
      "cell_type": "code",
      "execution_count": null,
      "metadata": {
        "colab": {
          "base_uri": "https://localhost:8080/"
        },
        "id": "rmpEGWUMUUnh",
        "outputId": "88d6b3fd-6fb7-4b33-e92c-817b438a046f"
      },
      "outputs": [
        {
          "output_type": "stream",
          "name": "stdout",
          "text": [
            "WARNING:tensorflow:From /tensorflow-1.15.2/python3.7/keras/backend/tensorflow_backend.py:422: The name tf.global_variables is deprecated. Please use tf.compat.v1.global_variables instead.\n",
            "\n",
            "Train on 703 samples, validate on 176 samples\n",
            "Epoch 1/200\n",
            "703/703 [==============================] - 7s 10ms/step - loss: 3.0475 - accuracy: 0.0526 - val_loss: 2.9962 - val_accuracy: 0.0398\n",
            "Epoch 2/200\n",
            "703/703 [==============================] - 2s 3ms/step - loss: 2.9947 - accuracy: 0.0740 - val_loss: 2.9950 - val_accuracy: 0.0511\n",
            "Epoch 3/200\n",
            "703/703 [==============================] - 2s 3ms/step - loss: 2.9775 - accuracy: 0.1081 - val_loss: 2.9503 - val_accuracy: 0.0568\n",
            "Epoch 4/200\n",
            "703/703 [==============================] - 2s 3ms/step - loss: 2.8661 - accuracy: 0.1451 - val_loss: 2.9123 - val_accuracy: 0.0739\n",
            "Epoch 5/200\n",
            "703/703 [==============================] - 2s 3ms/step - loss: 2.6676 - accuracy: 0.2319 - val_loss: 2.9448 - val_accuracy: 0.1023\n",
            "Epoch 6/200\n",
            "703/703 [==============================] - 2s 3ms/step - loss: 2.2980 - accuracy: 0.3186 - val_loss: 3.1002 - val_accuracy: 0.0795\n",
            "Epoch 7/200\n",
            "703/703 [==============================] - 2s 3ms/step - loss: 1.9683 - accuracy: 0.4566 - val_loss: 3.3421 - val_accuracy: 0.1250\n",
            "Epoch 8/200\n",
            "703/703 [==============================] - 2s 3ms/step - loss: 1.6190 - accuracy: 0.5220 - val_loss: 3.4669 - val_accuracy: 0.1250\n",
            "Epoch 9/200\n",
            "703/703 [==============================] - 2s 3ms/step - loss: 1.3898 - accuracy: 0.6046 - val_loss: 4.1634 - val_accuracy: 0.0909\n",
            "Epoch 10/200\n",
            "703/703 [==============================] - 2s 3ms/step - loss: 1.2368 - accuracy: 0.6558 - val_loss: 4.1233 - val_accuracy: 0.0795\n",
            "Epoch 11/200\n",
            "703/703 [==============================] - 2s 3ms/step - loss: 0.9792 - accuracy: 0.7283 - val_loss: 4.7511 - val_accuracy: 0.1080\n",
            "Epoch 12/200\n",
            "703/703 [==============================] - 2s 3ms/step - loss: 0.9114 - accuracy: 0.7568 - val_loss: 4.7491 - val_accuracy: 0.1080\n",
            "Epoch 13/200\n",
            "703/703 [==============================] - 2s 3ms/step - loss: 0.8031 - accuracy: 0.7909 - val_loss: 5.2999 - val_accuracy: 0.1136\n",
            "Epoch 14/200\n",
            "703/703 [==============================] - 2s 3ms/step - loss: 0.7454 - accuracy: 0.8208 - val_loss: 5.3795 - val_accuracy: 0.1136\n",
            "Epoch 15/200\n",
            "703/703 [==============================] - 2s 3ms/step - loss: 0.7010 - accuracy: 0.8179 - val_loss: 5.1322 - val_accuracy: 0.1023\n",
            "Epoch 16/200\n",
            "703/703 [==============================] - 2s 3ms/step - loss: 0.6540 - accuracy: 0.8563 - val_loss: 5.9672 - val_accuracy: 0.1023\n",
            "Epoch 17/200\n",
            "703/703 [==============================] - 2s 3ms/step - loss: 0.6679 - accuracy: 0.8506 - val_loss: 5.5125 - val_accuracy: 0.1193\n",
            "Epoch 18/200\n",
            "703/703 [==============================] - 2s 3ms/step - loss: 0.5692 - accuracy: 0.8663 - val_loss: 5.9754 - val_accuracy: 0.1023\n",
            "Epoch 19/200\n",
            "703/703 [==============================] - 2s 3ms/step - loss: 0.5420 - accuracy: 0.8819 - val_loss: 6.5034 - val_accuracy: 0.1420\n",
            "Epoch 20/200\n",
            "703/703 [==============================] - 2s 3ms/step - loss: 0.5354 - accuracy: 0.8848 - val_loss: 5.9663 - val_accuracy: 0.1420\n",
            "Epoch 21/200\n",
            "703/703 [==============================] - 2s 3ms/step - loss: 0.4795 - accuracy: 0.8947 - val_loss: 6.3485 - val_accuracy: 0.1080\n",
            "Epoch 22/200\n",
            "703/703 [==============================] - 2s 3ms/step - loss: 0.4470 - accuracy: 0.8976 - val_loss: 6.2732 - val_accuracy: 0.1193\n",
            "Epoch 23/200\n",
            "703/703 [==============================] - 2s 3ms/step - loss: 0.4582 - accuracy: 0.9018 - val_loss: 6.3059 - val_accuracy: 0.1250\n",
            "Epoch 24/200\n",
            "703/703 [==============================] - 2s 3ms/step - loss: 0.3933 - accuracy: 0.9090 - val_loss: 6.4900 - val_accuracy: 0.1364\n",
            "Epoch 25/200\n",
            "703/703 [==============================] - 2s 3ms/step - loss: 0.3816 - accuracy: 0.9104 - val_loss: 6.8101 - val_accuracy: 0.1136\n",
            "Epoch 26/200\n",
            "703/703 [==============================] - 2s 3ms/step - loss: 0.4075 - accuracy: 0.9047 - val_loss: 6.5525 - val_accuracy: 0.1307\n",
            "Epoch 27/200\n",
            "703/703 [==============================] - 2s 3ms/step - loss: 0.4038 - accuracy: 0.9147 - val_loss: 6.9982 - val_accuracy: 0.1080\n",
            "Epoch 28/200\n",
            "703/703 [==============================] - 2s 3ms/step - loss: 0.3285 - accuracy: 0.9445 - val_loss: 6.4481 - val_accuracy: 0.1250\n",
            "Epoch 29/200\n",
            "703/703 [==============================] - 2s 3ms/step - loss: 0.2948 - accuracy: 0.9374 - val_loss: 7.2810 - val_accuracy: 0.1420\n",
            "Epoch 30/200\n",
            "703/703 [==============================] - 2s 3ms/step - loss: 0.3322 - accuracy: 0.9289 - val_loss: 7.4592 - val_accuracy: 0.1250\n",
            "Epoch 31/200\n",
            "703/703 [==============================] - 2s 3ms/step - loss: 0.3201 - accuracy: 0.9417 - val_loss: 7.1146 - val_accuracy: 0.1250\n",
            "Epoch 32/200\n",
            "703/703 [==============================] - 2s 3ms/step - loss: 0.3310 - accuracy: 0.9317 - val_loss: 6.6775 - val_accuracy: 0.1307\n",
            "Epoch 33/200\n",
            "703/703 [==============================] - 2s 3ms/step - loss: 0.2690 - accuracy: 0.9346 - val_loss: 7.6350 - val_accuracy: 0.1250\n",
            "Epoch 34/200\n",
            "703/703 [==============================] - 2s 3ms/step - loss: 0.3317 - accuracy: 0.9346 - val_loss: 7.3809 - val_accuracy: 0.1307\n",
            "Epoch 35/200\n",
            "703/703 [==============================] - 2s 3ms/step - loss: 0.2970 - accuracy: 0.9360 - val_loss: 7.1146 - val_accuracy: 0.1250\n",
            "Epoch 36/200\n",
            "703/703 [==============================] - 2s 3ms/step - loss: 0.2824 - accuracy: 0.9417 - val_loss: 7.0571 - val_accuracy: 0.1477\n",
            "Epoch 37/200\n",
            "703/703 [==============================] - 2s 3ms/step - loss: 0.2383 - accuracy: 0.9516 - val_loss: 6.6161 - val_accuracy: 0.1307\n",
            "Epoch 38/200\n",
            "703/703 [==============================] - 2s 3ms/step - loss: 0.2494 - accuracy: 0.9474 - val_loss: 6.7690 - val_accuracy: 0.1193\n",
            "Epoch 39/200\n",
            "703/703 [==============================] - 2s 3ms/step - loss: 0.2045 - accuracy: 0.9616 - val_loss: 7.0457 - val_accuracy: 0.1307\n",
            "Epoch 40/200\n",
            "703/703 [==============================] - 2s 3ms/step - loss: 0.2306 - accuracy: 0.9346 - val_loss: 8.1218 - val_accuracy: 0.1420\n",
            "Epoch 41/200\n",
            "703/703 [==============================] - 2s 3ms/step - loss: 0.3056 - accuracy: 0.9445 - val_loss: 6.9360 - val_accuracy: 0.1477\n",
            "Epoch 42/200\n",
            "703/703 [==============================] - 2s 3ms/step - loss: 0.2541 - accuracy: 0.9488 - val_loss: 6.7982 - val_accuracy: 0.1477\n",
            "Epoch 43/200\n",
            "703/703 [==============================] - 2s 3ms/step - loss: 0.2654 - accuracy: 0.9417 - val_loss: 6.7922 - val_accuracy: 0.1250\n",
            "Epoch 44/200\n",
            "703/703 [==============================] - 2s 3ms/step - loss: 0.1804 - accuracy: 0.9630 - val_loss: 6.7593 - val_accuracy: 0.1420\n",
            "Epoch 45/200\n",
            "703/703 [==============================] - 2s 3ms/step - loss: 0.2293 - accuracy: 0.9488 - val_loss: 6.6370 - val_accuracy: 0.1591\n",
            "Epoch 46/200\n",
            "703/703 [==============================] - 2s 3ms/step - loss: 0.2260 - accuracy: 0.9531 - val_loss: 6.9019 - val_accuracy: 0.1136\n",
            "Epoch 47/200\n",
            "703/703 [==============================] - 2s 3ms/step - loss: 0.2164 - accuracy: 0.9459 - val_loss: 6.9397 - val_accuracy: 0.1364\n",
            "Epoch 48/200\n",
            "703/703 [==============================] - 2s 3ms/step - loss: 0.1858 - accuracy: 0.9587 - val_loss: 6.6666 - val_accuracy: 0.1307\n",
            "Epoch 49/200\n",
            "703/703 [==============================] - 2s 3ms/step - loss: 0.2163 - accuracy: 0.9559 - val_loss: 6.5405 - val_accuracy: 0.1420\n",
            "Epoch 50/200\n",
            "703/703 [==============================] - 2s 3ms/step - loss: 0.1775 - accuracy: 0.9587 - val_loss: 6.8370 - val_accuracy: 0.1250\n",
            "Epoch 51/200\n",
            "703/703 [==============================] - 2s 3ms/step - loss: 0.1942 - accuracy: 0.9488 - val_loss: 7.0098 - val_accuracy: 0.1477\n",
            "Epoch 52/200\n",
            "703/703 [==============================] - 2s 3ms/step - loss: 0.1720 - accuracy: 0.9559 - val_loss: 6.9250 - val_accuracy: 0.1250\n",
            "Epoch 53/200\n",
            "703/703 [==============================] - 2s 3ms/step - loss: 0.1648 - accuracy: 0.9531 - val_loss: 7.1178 - val_accuracy: 0.1477\n",
            "Epoch 54/200\n",
            "703/703 [==============================] - 2s 3ms/step - loss: 0.1537 - accuracy: 0.9602 - val_loss: 6.6782 - val_accuracy: 0.1477\n",
            "Epoch 55/200\n",
            "703/703 [==============================] - 2s 3ms/step - loss: 0.1238 - accuracy: 0.9630 - val_loss: 6.8832 - val_accuracy: 0.1364\n",
            "Epoch 56/200\n",
            "703/703 [==============================] - 2s 3ms/step - loss: 0.1637 - accuracy: 0.9502 - val_loss: 6.5396 - val_accuracy: 0.1477\n",
            "Epoch 57/200\n",
            "703/703 [==============================] - 2s 3ms/step - loss: 0.1721 - accuracy: 0.9502 - val_loss: 6.6252 - val_accuracy: 0.1477\n",
            "Epoch 58/200\n",
            "703/703 [==============================] - 2s 3ms/step - loss: 0.1879 - accuracy: 0.9616 - val_loss: 6.7810 - val_accuracy: 0.1250\n",
            "Epoch 59/200\n",
            "703/703 [==============================] - 2s 3ms/step - loss: 0.1446 - accuracy: 0.9559 - val_loss: 7.1863 - val_accuracy: 0.1420\n",
            "Epoch 60/200\n",
            "703/703 [==============================] - 2s 3ms/step - loss: 0.1312 - accuracy: 0.9602 - val_loss: 6.9546 - val_accuracy: 0.1250\n",
            "Epoch 61/200\n",
            "703/703 [==============================] - 2s 3ms/step - loss: 0.1422 - accuracy: 0.9616 - val_loss: 6.7609 - val_accuracy: 0.1420\n",
            "Epoch 62/200\n",
            "703/703 [==============================] - 2s 3ms/step - loss: 0.1473 - accuracy: 0.9573 - val_loss: 6.8126 - val_accuracy: 0.1591\n",
            "Epoch 63/200\n",
            "703/703 [==============================] - 2s 3ms/step - loss: 0.1720 - accuracy: 0.9587 - val_loss: 6.8860 - val_accuracy: 0.1420\n",
            "Epoch 64/200\n",
            "703/703 [==============================] - 2s 3ms/step - loss: 0.1252 - accuracy: 0.9630 - val_loss: 6.6429 - val_accuracy: 0.1420\n",
            "Epoch 65/200\n",
            "703/703 [==============================] - 2s 3ms/step - loss: 0.1277 - accuracy: 0.9587 - val_loss: 6.1884 - val_accuracy: 0.1307\n",
            "Epoch 66/200\n",
            "703/703 [==============================] - 2s 3ms/step - loss: 0.1563 - accuracy: 0.9559 - val_loss: 7.2777 - val_accuracy: 0.1364\n",
            "Epoch 67/200\n",
            "703/703 [==============================] - 2s 3ms/step - loss: 0.1418 - accuracy: 0.9516 - val_loss: 7.0249 - val_accuracy: 0.1193\n",
            "Epoch 68/200\n",
            "703/703 [==============================] - 2s 3ms/step - loss: 0.1258 - accuracy: 0.9587 - val_loss: 6.5804 - val_accuracy: 0.1307\n",
            "Epoch 69/200\n",
            "703/703 [==============================] - 2s 3ms/step - loss: 0.1344 - accuracy: 0.9587 - val_loss: 6.9576 - val_accuracy: 0.1761\n",
            "Epoch 70/200\n",
            "703/703 [==============================] - 2s 3ms/step - loss: 0.1127 - accuracy: 0.9630 - val_loss: 6.6454 - val_accuracy: 0.1534\n",
            "Epoch 71/200\n",
            "703/703 [==============================] - 2s 3ms/step - loss: 0.1008 - accuracy: 0.9602 - val_loss: 6.8863 - val_accuracy: 0.1477\n",
            "Epoch 72/200\n",
            "703/703 [==============================] - 2s 3ms/step - loss: 0.1253 - accuracy: 0.9616 - val_loss: 6.9711 - val_accuracy: 0.1364\n",
            "Epoch 73/200\n",
            "703/703 [==============================] - 2s 3ms/step - loss: 0.1256 - accuracy: 0.9545 - val_loss: 6.8282 - val_accuracy: 0.1364\n",
            "Epoch 74/200\n",
            "703/703 [==============================] - 2s 3ms/step - loss: 0.1114 - accuracy: 0.9573 - val_loss: 6.7246 - val_accuracy: 0.1420\n",
            "Epoch 75/200\n",
            "703/703 [==============================] - 2s 3ms/step - loss: 0.1445 - accuracy: 0.9516 - val_loss: 6.7223 - val_accuracy: 0.1591\n",
            "Epoch 76/200\n",
            "703/703 [==============================] - 2s 3ms/step - loss: 0.1188 - accuracy: 0.9559 - val_loss: 6.9250 - val_accuracy: 0.1648\n",
            "Epoch 77/200\n",
            "703/703 [==============================] - 2s 3ms/step - loss: 0.1102 - accuracy: 0.9573 - val_loss: 6.6411 - val_accuracy: 0.1591\n",
            "Epoch 78/200\n",
            "703/703 [==============================] - 2s 3ms/step - loss: 0.1113 - accuracy: 0.9659 - val_loss: 7.2837 - val_accuracy: 0.1534\n",
            "Epoch 79/200\n",
            "703/703 [==============================] - 2s 3ms/step - loss: 0.1069 - accuracy: 0.9602 - val_loss: 6.9863 - val_accuracy: 0.1364\n",
            "Epoch 80/200\n",
            "703/703 [==============================] - 2s 3ms/step - loss: 0.0952 - accuracy: 0.9630 - val_loss: 7.2581 - val_accuracy: 0.1307\n",
            "Epoch 81/200\n",
            "703/703 [==============================] - 2s 3ms/step - loss: 0.1040 - accuracy: 0.9644 - val_loss: 7.0860 - val_accuracy: 0.1250\n",
            "Epoch 82/200\n",
            "703/703 [==============================] - 2s 3ms/step - loss: 0.1037 - accuracy: 0.9630 - val_loss: 6.7839 - val_accuracy: 0.1250\n",
            "Epoch 83/200\n",
            "703/703 [==============================] - 2s 3ms/step - loss: 0.1285 - accuracy: 0.9531 - val_loss: 6.6061 - val_accuracy: 0.1136\n",
            "Epoch 84/200\n",
            "703/703 [==============================] - 2s 3ms/step - loss: 0.1101 - accuracy: 0.9573 - val_loss: 6.6618 - val_accuracy: 0.1364\n",
            "Epoch 85/200\n",
            "703/703 [==============================] - 2s 3ms/step - loss: 0.1094 - accuracy: 0.9616 - val_loss: 6.9656 - val_accuracy: 0.1193\n",
            "Epoch 86/200\n",
            "703/703 [==============================] - 2s 3ms/step - loss: 0.0961 - accuracy: 0.9559 - val_loss: 6.9811 - val_accuracy: 0.1250\n",
            "Epoch 87/200\n",
            "703/703 [==============================] - 2s 3ms/step - loss: 0.0970 - accuracy: 0.9630 - val_loss: 6.6693 - val_accuracy: 0.1364\n",
            "Epoch 88/200\n",
            "703/703 [==============================] - 2s 3ms/step - loss: 0.1275 - accuracy: 0.9502 - val_loss: 6.9278 - val_accuracy: 0.1477\n",
            "Epoch 89/200\n",
            "703/703 [==============================] - 2s 3ms/step - loss: 0.0996 - accuracy: 0.9630 - val_loss: 6.6191 - val_accuracy: 0.1648\n",
            "Epoch 90/200\n",
            "703/703 [==============================] - 2s 3ms/step - loss: 0.1060 - accuracy: 0.9630 - val_loss: 6.6572 - val_accuracy: 0.1364\n",
            "Epoch 91/200\n",
            "703/703 [==============================] - 2s 3ms/step - loss: 0.1094 - accuracy: 0.9573 - val_loss: 7.0707 - val_accuracy: 0.1250\n",
            "Epoch 92/200\n",
            "703/703 [==============================] - 2s 3ms/step - loss: 0.0848 - accuracy: 0.9616 - val_loss: 6.5366 - val_accuracy: 0.1307\n",
            "Epoch 93/200\n",
            "703/703 [==============================] - 2s 3ms/step - loss: 0.0929 - accuracy: 0.9602 - val_loss: 6.7606 - val_accuracy: 0.1420\n",
            "Epoch 94/200\n",
            "703/703 [==============================] - 2s 3ms/step - loss: 0.1113 - accuracy: 0.9644 - val_loss: 7.2068 - val_accuracy: 0.1307\n",
            "Epoch 95/200\n",
            "703/703 [==============================] - 2s 3ms/step - loss: 0.1013 - accuracy: 0.9573 - val_loss: 6.7413 - val_accuracy: 0.1591\n",
            "Epoch 96/200\n",
            "703/703 [==============================] - 2s 3ms/step - loss: 0.0968 - accuracy: 0.9559 - val_loss: 7.0092 - val_accuracy: 0.1307\n",
            "Epoch 97/200\n",
            "703/703 [==============================] - 2s 3ms/step - loss: 0.1015 - accuracy: 0.9502 - val_loss: 7.5275 - val_accuracy: 0.1193\n",
            "Epoch 98/200\n",
            "703/703 [==============================] - 2s 3ms/step - loss: 0.0938 - accuracy: 0.9602 - val_loss: 7.1222 - val_accuracy: 0.1364\n",
            "Epoch 99/200\n",
            "703/703 [==============================] - 2s 3ms/step - loss: 0.0921 - accuracy: 0.9587 - val_loss: 6.8086 - val_accuracy: 0.1477\n",
            "Epoch 100/200\n",
            "703/703 [==============================] - 2s 3ms/step - loss: 0.1001 - accuracy: 0.9602 - val_loss: 7.1246 - val_accuracy: 0.1250\n",
            "Epoch 101/200\n",
            "703/703 [==============================] - 2s 3ms/step - loss: 0.0956 - accuracy: 0.9644 - val_loss: 6.6182 - val_accuracy: 0.1307\n",
            "Epoch 102/200\n",
            "703/703 [==============================] - 2s 3ms/step - loss: 0.1059 - accuracy: 0.9602 - val_loss: 7.5399 - val_accuracy: 0.1420\n",
            "Epoch 103/200\n",
            "703/703 [==============================] - 2s 3ms/step - loss: 0.1014 - accuracy: 0.9730 - val_loss: 7.7655 - val_accuracy: 0.1477\n",
            "Epoch 104/200\n",
            "703/703 [==============================] - 2s 3ms/step - loss: 0.0935 - accuracy: 0.9587 - val_loss: 7.7868 - val_accuracy: 0.1477\n",
            "Epoch 105/200\n",
            "703/703 [==============================] - 2s 3ms/step - loss: 0.0912 - accuracy: 0.9616 - val_loss: 7.6123 - val_accuracy: 0.1477\n",
            "Epoch 106/200\n",
            "703/703 [==============================] - 2s 3ms/step - loss: 0.1087 - accuracy: 0.9559 - val_loss: 7.8718 - val_accuracy: 0.1307\n",
            "Epoch 107/200\n",
            "703/703 [==============================] - 2s 3ms/step - loss: 0.1214 - accuracy: 0.9516 - val_loss: 6.9476 - val_accuracy: 0.1364\n",
            "Epoch 108/200\n",
            "703/703 [==============================] - 2s 3ms/step - loss: 0.1179 - accuracy: 0.9587 - val_loss: 6.9081 - val_accuracy: 0.1477\n",
            "Epoch 109/200\n",
            "703/703 [==============================] - 2s 3ms/step - loss: 0.0976 - accuracy: 0.9531 - val_loss: 7.3160 - val_accuracy: 0.1136\n",
            "Epoch 110/200\n",
            "703/703 [==============================] - 2s 3ms/step - loss: 0.0858 - accuracy: 0.9587 - val_loss: 7.3751 - val_accuracy: 0.1477\n",
            "Epoch 111/200\n",
            "703/703 [==============================] - 2s 3ms/step - loss: 0.0828 - accuracy: 0.9644 - val_loss: 7.1493 - val_accuracy: 0.1477\n",
            "Epoch 112/200\n",
            "703/703 [==============================] - 2s 3ms/step - loss: 0.0906 - accuracy: 0.9630 - val_loss: 7.8727 - val_accuracy: 0.1420\n",
            "Epoch 113/200\n",
            "703/703 [==============================] - 2s 3ms/step - loss: 0.0809 - accuracy: 0.9616 - val_loss: 7.5104 - val_accuracy: 0.1477\n",
            "Epoch 114/200\n",
            "703/703 [==============================] - 2s 3ms/step - loss: 0.0826 - accuracy: 0.9659 - val_loss: 7.4967 - val_accuracy: 0.1420\n",
            "Epoch 115/200\n",
            "703/703 [==============================] - 2s 3ms/step - loss: 0.0926 - accuracy: 0.9630 - val_loss: 7.9240 - val_accuracy: 0.1534\n",
            "Epoch 116/200\n",
            "703/703 [==============================] - 2s 3ms/step - loss: 0.0988 - accuracy: 0.9644 - val_loss: 6.9215 - val_accuracy: 0.1364\n",
            "Epoch 117/200\n",
            "703/703 [==============================] - 2s 3ms/step - loss: 0.0906 - accuracy: 0.9644 - val_loss: 7.2816 - val_accuracy: 0.1420\n",
            "Epoch 118/200\n",
            "703/703 [==============================] - 2s 3ms/step - loss: 0.0848 - accuracy: 0.9630 - val_loss: 6.9901 - val_accuracy: 0.1477\n",
            "Epoch 119/200\n",
            "703/703 [==============================] - 2s 3ms/step - loss: 0.0795 - accuracy: 0.9630 - val_loss: 7.0088 - val_accuracy: 0.1477\n",
            "Epoch 120/200\n",
            "703/703 [==============================] - 2s 3ms/step - loss: 0.0847 - accuracy: 0.9573 - val_loss: 7.0867 - val_accuracy: 0.1307\n",
            "Epoch 121/200\n",
            "703/703 [==============================] - 2s 3ms/step - loss: 0.0869 - accuracy: 0.9616 - val_loss: 7.1995 - val_accuracy: 0.1307\n",
            "Epoch 122/200\n",
            "703/703 [==============================] - 2s 3ms/step - loss: 0.0717 - accuracy: 0.9616 - val_loss: 7.2858 - val_accuracy: 0.1534\n",
            "Epoch 123/200\n",
            "703/703 [==============================] - 2s 3ms/step - loss: 0.0867 - accuracy: 0.9587 - val_loss: 6.8177 - val_accuracy: 0.1420\n",
            "Epoch 124/200\n",
            "703/703 [==============================] - 2s 3ms/step - loss: 0.0881 - accuracy: 0.9531 - val_loss: 6.7312 - val_accuracy: 0.1364\n",
            "Epoch 125/200\n",
            "703/703 [==============================] - 2s 3ms/step - loss: 0.0877 - accuracy: 0.9587 - val_loss: 7.2379 - val_accuracy: 0.1250\n",
            "Epoch 126/200\n",
            "703/703 [==============================] - 2s 3ms/step - loss: 0.1370 - accuracy: 0.9488 - val_loss: 7.5237 - val_accuracy: 0.1364\n",
            "Epoch 127/200\n",
            "703/703 [==============================] - 2s 3ms/step - loss: 0.1046 - accuracy: 0.9545 - val_loss: 7.1232 - val_accuracy: 0.1420\n",
            "Epoch 128/200\n",
            "703/703 [==============================] - 2s 3ms/step - loss: 0.0778 - accuracy: 0.9630 - val_loss: 7.7787 - val_accuracy: 0.1307\n",
            "Epoch 129/200\n",
            "703/703 [==============================] - 2s 3ms/step - loss: 0.0692 - accuracy: 0.9630 - val_loss: 7.2895 - val_accuracy: 0.1477\n",
            "Epoch 130/200\n",
            "703/703 [==============================] - 2s 3ms/step - loss: 0.0682 - accuracy: 0.9687 - val_loss: 6.9324 - val_accuracy: 0.1534\n",
            "Epoch 131/200\n",
            "703/703 [==============================] - 2s 3ms/step - loss: 0.0860 - accuracy: 0.9687 - val_loss: 7.3492 - val_accuracy: 0.1420\n",
            "Epoch 132/200\n",
            "703/703 [==============================] - 2s 3ms/step - loss: 0.0746 - accuracy: 0.9616 - val_loss: 7.1336 - val_accuracy: 0.1420\n",
            "Epoch 133/200\n",
            "703/703 [==============================] - 2s 3ms/step - loss: 0.0809 - accuracy: 0.9587 - val_loss: 7.2149 - val_accuracy: 0.1364\n",
            "Epoch 134/200\n",
            "703/703 [==============================] - 2s 3ms/step - loss: 0.0855 - accuracy: 0.9573 - val_loss: 7.1646 - val_accuracy: 0.1307\n",
            "Epoch 135/200\n",
            "703/703 [==============================] - 2s 3ms/step - loss: 0.0879 - accuracy: 0.9573 - val_loss: 7.3977 - val_accuracy: 0.1420\n",
            "Epoch 136/200\n",
            "703/703 [==============================] - 2s 3ms/step - loss: 0.0803 - accuracy: 0.9587 - val_loss: 8.0090 - val_accuracy: 0.1420\n",
            "Epoch 137/200\n",
            "703/703 [==============================] - 2s 3ms/step - loss: 0.0843 - accuracy: 0.9644 - val_loss: 6.8047 - val_accuracy: 0.1193\n",
            "Epoch 138/200\n",
            "703/703 [==============================] - 2s 3ms/step - loss: 0.0874 - accuracy: 0.9630 - val_loss: 7.4251 - val_accuracy: 0.1420\n",
            "Epoch 139/200\n",
            "703/703 [==============================] - 2s 3ms/step - loss: 0.0638 - accuracy: 0.9673 - val_loss: 7.9113 - val_accuracy: 0.1307\n",
            "Epoch 140/200\n",
            "703/703 [==============================] - 2s 3ms/step - loss: 0.0678 - accuracy: 0.9659 - val_loss: 7.2010 - val_accuracy: 0.1364\n",
            "Epoch 141/200\n",
            "703/703 [==============================] - 2s 3ms/step - loss: 0.0998 - accuracy: 0.9531 - val_loss: 8.6065 - val_accuracy: 0.1420\n",
            "Epoch 142/200\n",
            "703/703 [==============================] - 2s 3ms/step - loss: 0.0833 - accuracy: 0.9616 - val_loss: 7.0991 - val_accuracy: 0.1307\n",
            "Epoch 143/200\n",
            "703/703 [==============================] - 2s 3ms/step - loss: 0.0762 - accuracy: 0.9644 - val_loss: 7.2025 - val_accuracy: 0.1420\n",
            "Epoch 144/200\n",
            "703/703 [==============================] - 2s 3ms/step - loss: 0.0802 - accuracy: 0.9559 - val_loss: 7.1653 - val_accuracy: 0.1477\n",
            "Epoch 145/200\n",
            "703/703 [==============================] - 2s 3ms/step - loss: 0.0725 - accuracy: 0.9545 - val_loss: 8.0847 - val_accuracy: 0.1477\n",
            "Epoch 146/200\n",
            "703/703 [==============================] - 2s 3ms/step - loss: 0.0722 - accuracy: 0.9630 - val_loss: 7.3826 - val_accuracy: 0.1364\n",
            "Epoch 147/200\n",
            "703/703 [==============================] - 2s 3ms/step - loss: 0.0787 - accuracy: 0.9545 - val_loss: 7.4968 - val_accuracy: 0.1364\n",
            "Epoch 148/200\n",
            "703/703 [==============================] - 2s 3ms/step - loss: 0.0669 - accuracy: 0.9616 - val_loss: 7.3393 - val_accuracy: 0.1420\n",
            "Epoch 149/200\n",
            "703/703 [==============================] - 2s 3ms/step - loss: 0.0715 - accuracy: 0.9630 - val_loss: 7.2537 - val_accuracy: 0.1420\n",
            "Epoch 150/200\n",
            "703/703 [==============================] - 2s 3ms/step - loss: 0.0760 - accuracy: 0.9644 - val_loss: 7.5084 - val_accuracy: 0.1477\n",
            "Epoch 151/200\n",
            "703/703 [==============================] - 2s 3ms/step - loss: 0.0715 - accuracy: 0.9602 - val_loss: 7.3927 - val_accuracy: 0.1364\n",
            "Epoch 152/200\n",
            "703/703 [==============================] - 2s 3ms/step - loss: 0.0743 - accuracy: 0.9602 - val_loss: 7.2152 - val_accuracy: 0.1364\n",
            "Epoch 153/200\n",
            "703/703 [==============================] - 2s 3ms/step - loss: 0.0784 - accuracy: 0.9488 - val_loss: 6.9400 - val_accuracy: 0.1477\n",
            "Epoch 154/200\n",
            "703/703 [==============================] - 2s 3ms/step - loss: 0.0748 - accuracy: 0.9502 - val_loss: 7.4935 - val_accuracy: 0.1307\n",
            "Epoch 155/200\n",
            "703/703 [==============================] - 2s 3ms/step - loss: 0.0754 - accuracy: 0.9573 - val_loss: 7.3704 - val_accuracy: 0.1307\n",
            "Epoch 156/200\n",
            "703/703 [==============================] - 2s 3ms/step - loss: 0.0842 - accuracy: 0.9587 - val_loss: 7.8206 - val_accuracy: 0.1534\n",
            "Epoch 157/200\n",
            "703/703 [==============================] - 2s 3ms/step - loss: 0.0877 - accuracy: 0.9531 - val_loss: 8.0292 - val_accuracy: 0.1420\n",
            "Epoch 158/200\n",
            "703/703 [==============================] - 2s 3ms/step - loss: 0.0691 - accuracy: 0.9659 - val_loss: 7.3672 - val_accuracy: 0.1534\n",
            "Epoch 159/200\n",
            "703/703 [==============================] - 2s 3ms/step - loss: 0.0684 - accuracy: 0.9559 - val_loss: 7.8291 - val_accuracy: 0.1420\n",
            "Epoch 160/200\n",
            "703/703 [==============================] - 2s 3ms/step - loss: 0.1112 - accuracy: 0.9573 - val_loss: 8.0734 - val_accuracy: 0.1477\n",
            "Epoch 161/200\n",
            "703/703 [==============================] - 2s 3ms/step - loss: 0.0912 - accuracy: 0.9602 - val_loss: 7.6772 - val_accuracy: 0.1364\n",
            "Epoch 162/200\n",
            "703/703 [==============================] - 2s 3ms/step - loss: 0.0772 - accuracy: 0.9602 - val_loss: 7.4327 - val_accuracy: 0.1250\n",
            "Epoch 163/200\n",
            "703/703 [==============================] - 2s 3ms/step - loss: 0.0724 - accuracy: 0.9616 - val_loss: 7.5219 - val_accuracy: 0.1250\n",
            "Epoch 164/200\n",
            "703/703 [==============================] - 2s 3ms/step - loss: 0.0702 - accuracy: 0.9602 - val_loss: 8.1486 - val_accuracy: 0.1420\n",
            "Epoch 165/200\n",
            "703/703 [==============================] - 2s 3ms/step - loss: 0.0610 - accuracy: 0.9616 - val_loss: 7.4135 - val_accuracy: 0.1420\n",
            "Epoch 166/200\n",
            "703/703 [==============================] - 2s 3ms/step - loss: 0.0637 - accuracy: 0.9630 - val_loss: 7.9101 - val_accuracy: 0.1364\n",
            "Epoch 167/200\n",
            "703/703 [==============================] - 2s 3ms/step - loss: 0.0651 - accuracy: 0.9659 - val_loss: 7.3984 - val_accuracy: 0.1364\n",
            "Epoch 168/200\n",
            "703/703 [==============================] - 2s 3ms/step - loss: 0.0669 - accuracy: 0.9602 - val_loss: 7.4842 - val_accuracy: 0.1364\n",
            "Epoch 169/200\n",
            "703/703 [==============================] - 2s 3ms/step - loss: 0.0615 - accuracy: 0.9644 - val_loss: 7.4773 - val_accuracy: 0.1420\n",
            "Epoch 170/200\n",
            "703/703 [==============================] - 2s 3ms/step - loss: 0.0656 - accuracy: 0.9587 - val_loss: 7.5984 - val_accuracy: 0.1307\n",
            "Epoch 171/200\n",
            "703/703 [==============================] - 2s 3ms/step - loss: 0.0683 - accuracy: 0.9559 - val_loss: 6.9878 - val_accuracy: 0.1307\n",
            "Epoch 172/200\n",
            "703/703 [==============================] - 2s 3ms/step - loss: 0.0712 - accuracy: 0.9559 - val_loss: 6.9882 - val_accuracy: 0.1307\n",
            "Epoch 173/200\n",
            "703/703 [==============================] - 2s 3ms/step - loss: 0.0692 - accuracy: 0.9587 - val_loss: 7.9088 - val_accuracy: 0.1477\n",
            "Epoch 174/200\n",
            "703/703 [==============================] - 2s 3ms/step - loss: 0.0753 - accuracy: 0.9616 - val_loss: 6.5167 - val_accuracy: 0.1364\n",
            "Epoch 175/200\n",
            "703/703 [==============================] - 2s 3ms/step - loss: 0.0678 - accuracy: 0.9616 - val_loss: 7.1459 - val_accuracy: 0.1534\n",
            "Epoch 176/200\n",
            "703/703 [==============================] - 2s 3ms/step - loss: 0.0679 - accuracy: 0.9616 - val_loss: 8.0893 - val_accuracy: 0.1307\n",
            "Epoch 177/200\n",
            "703/703 [==============================] - 2s 3ms/step - loss: 0.0624 - accuracy: 0.9644 - val_loss: 7.9008 - val_accuracy: 0.1534\n",
            "Epoch 178/200\n",
            "703/703 [==============================] - 2s 3ms/step - loss: 0.0647 - accuracy: 0.9630 - val_loss: 7.1497 - val_accuracy: 0.1648\n",
            "Epoch 179/200\n",
            "703/703 [==============================] - 2s 3ms/step - loss: 0.0601 - accuracy: 0.9644 - val_loss: 7.3729 - val_accuracy: 0.1477\n",
            "Epoch 180/200\n",
            "703/703 [==============================] - 2s 3ms/step - loss: 0.0645 - accuracy: 0.9616 - val_loss: 7.7337 - val_accuracy: 0.1420\n",
            "Epoch 181/200\n",
            "703/703 [==============================] - 2s 3ms/step - loss: 0.0554 - accuracy: 0.9673 - val_loss: 7.9481 - val_accuracy: 0.1477\n",
            "Epoch 182/200\n",
            "703/703 [==============================] - 2s 3ms/step - loss: 0.0663 - accuracy: 0.9616 - val_loss: 7.5989 - val_accuracy: 0.1477\n",
            "Epoch 183/200\n",
            "703/703 [==============================] - 2s 3ms/step - loss: 0.0619 - accuracy: 0.9602 - val_loss: 7.5587 - val_accuracy: 0.1307\n",
            "Epoch 184/200\n",
            "703/703 [==============================] - 2s 3ms/step - loss: 0.0533 - accuracy: 0.9673 - val_loss: 7.7645 - val_accuracy: 0.1534\n",
            "Epoch 185/200\n",
            "703/703 [==============================] - 2s 3ms/step - loss: 0.0643 - accuracy: 0.9644 - val_loss: 8.0566 - val_accuracy: 0.1364\n",
            "Epoch 186/200\n",
            "703/703 [==============================] - 2s 3ms/step - loss: 0.0853 - accuracy: 0.9488 - val_loss: 8.2522 - val_accuracy: 0.1477\n",
            "Epoch 187/200\n",
            "703/703 [==============================] - 2s 3ms/step - loss: 0.0795 - accuracy: 0.9573 - val_loss: 7.6635 - val_accuracy: 0.1307\n",
            "Epoch 188/200\n",
            "703/703 [==============================] - 2s 3ms/step - loss: 0.0615 - accuracy: 0.9687 - val_loss: 8.6681 - val_accuracy: 0.1250\n",
            "Epoch 189/200\n",
            "703/703 [==============================] - 2s 3ms/step - loss: 0.0765 - accuracy: 0.9630 - val_loss: 8.4082 - val_accuracy: 0.1307\n",
            "Epoch 190/200\n",
            "703/703 [==============================] - 2s 3ms/step - loss: 0.0678 - accuracy: 0.9630 - val_loss: 8.6829 - val_accuracy: 0.1364\n",
            "Epoch 191/200\n",
            "703/703 [==============================] - 2s 3ms/step - loss: 0.0582 - accuracy: 0.9659 - val_loss: 8.3917 - val_accuracy: 0.1420\n",
            "Epoch 192/200\n",
            "703/703 [==============================] - 2s 3ms/step - loss: 0.0680 - accuracy: 0.9644 - val_loss: 8.7568 - val_accuracy: 0.1364\n",
            "Epoch 193/200\n",
            "703/703 [==============================] - 2s 3ms/step - loss: 0.0640 - accuracy: 0.9630 - val_loss: 7.8031 - val_accuracy: 0.1534\n",
            "Epoch 194/200\n",
            "703/703 [==============================] - 2s 3ms/step - loss: 0.0665 - accuracy: 0.9587 - val_loss: 8.1994 - val_accuracy: 0.1648\n",
            "Epoch 195/200\n",
            "703/703 [==============================] - 2s 3ms/step - loss: 0.0649 - accuracy: 0.9559 - val_loss: 8.1419 - val_accuracy: 0.1591\n",
            "Epoch 196/200\n",
            "703/703 [==============================] - 2s 3ms/step - loss: 0.0783 - accuracy: 0.9587 - val_loss: 7.4507 - val_accuracy: 0.1364\n",
            "Epoch 197/200\n",
            "703/703 [==============================] - 2s 3ms/step - loss: 0.0731 - accuracy: 0.9559 - val_loss: 8.6721 - val_accuracy: 0.1420\n",
            "Epoch 198/200\n",
            "703/703 [==============================] - 2s 3ms/step - loss: 0.0692 - accuracy: 0.9587 - val_loss: 7.9728 - val_accuracy: 0.1364\n",
            "Epoch 199/200\n",
            "703/703 [==============================] - 2s 3ms/step - loss: 0.0529 - accuracy: 0.9659 - val_loss: 8.7386 - val_accuracy: 0.1250\n",
            "Epoch 200/200\n",
            "703/703 [==============================] - 2s 3ms/step - loss: 0.0637 - accuracy: 0.9616 - val_loss: 7.7130 - val_accuracy: 0.1136\n"
          ]
        }
      ],
      "source": [
        "checkpoint = ModelCheckpoint('model-{epoch:03d}.model',monitor='val_loss',verbose=0,save_best_only=True,mode='auto')\n",
        "history=model.fit(train_data,train_target,epochs=200,validation_split=0.2,)"
      ]
    },
    {
      "cell_type": "code",
      "execution_count": null,
      "metadata": {
        "id": "GWIlgOnjzdhT"
      },
      "outputs": [],
      "source": [
        "model.save('model.h5')"
      ]
    },
    {
      "cell_type": "code",
      "execution_count": null,
      "metadata": {
        "id": "dTE4J3IGUWlt"
      },
      "outputs": [],
      "source": [
        "from matplotlib import pyplot as plt"
      ]
    },
    {
      "cell_type": "code",
      "execution_count": null,
      "metadata": {
        "colab": {
          "base_uri": "https://localhost:8080/",
          "height": 299
        },
        "id": "H1TU9-z2UZlj",
        "outputId": "92c1b652-8a15-414a-c7b4-5adb3985278a"
      },
      "outputs": [
        {
          "output_type": "display_data",
          "data": {
            "image/png": "[encoded data removed]",
            "text/plain": [
              "<Figure size 432x288 with 1 Axes>"
            ]
          },
          "metadata": {}
        }
      ],
      "source": [
        "# plot the training loss and accuracy\n",
        "N = 200\n",
        "plt.style.use(\"ggplot\")\n",
        "plt.figure()\n",
        "plt.plot(np.arange(0, N), history.history[\"loss\"], label=\"train_loss\")\n",
        "plt.plot(np.arange(0, N), history.history[\"val_loss\"], label=\"val_loss\")\n",
        "plt.plot(np.arange(0, N), history.history[\"accuracy\"], label=\"train_acc\")\n",
        "plt.plot(np.arange(0, N), history.history[\"val_accuracy\"], label=\"val_acc\")\n",
        "plt.title(\"Training Loss and Accuracy\")\n",
        "plt.xlabel(\"Epoch #\")\n",
        "plt.ylabel(\"Loss/Accuracy\")\n",
        "plt.legend(loc=\"center right\")\n",
        "plt.savefig(\"CNN_Model\")"
      ]
    },
    {
      "cell_type": "code",
      "execution_count": null,
      "metadata": {
        "id": "mO_qh8EZl8qZ"
      },
      "outputs": [],
      "source": [
        ""
      ]
    }
  ],
  "metadata": {
    "accelerator": "GPU",
    "colab": {
      "name": "Model_Train.ipynb",
      "provenance": [],
      "include_colab_link": true
    },
    "kernelspec": {
      "display_name": "Python 3",
      "name": "python3"
    },
    "language_info": {
      "codemirror_mode": {
        "name": "ipython",
        "version": 3
      },
      "file_extension": ".py",
      "mimetype": "text/x-python",
      "name": "python",
      "nbconvert_exporter": "python",
      "pygments_lexer": "ipython3",
      "version": "3.10.1"
    }
  },
  "nbformat": 4,
  "nbformat_minor": 0
}